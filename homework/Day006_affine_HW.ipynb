{
 "cells": [
  {
   "cell_type": "markdown",
   "metadata": {},
   "source": [
    "# 作業\n",
    "\n",
    "練習以旋轉變換 + 平移變換來實現仿射變換\n",
    "> 旋轉 45 度 + 縮放 0.5 倍 + 平移 (x+100, y-50)"
   ]
  },
  {
   "cell_type": "code",
   "execution_count": 1,
   "metadata": {},
   "outputs": [],
   "source": [
    "import cv2\n",
    "import time\n",
    "import numpy as np\n",
    "\n",
    "img = cv2.imread('lena.png')"
   ]
  },
  {
   "cell_type": "markdown",
   "metadata": {},
   "source": [
    "## Affine Transformation - Case 1: Rotation -> Resizing -> Translation"
   ]
  },
  {
   "cell_type": "code",
   "execution_count": 7,
   "metadata": {},
   "outputs": [],
   "source": [
    "# 旋轉 45 度\n",
    "rows, cols = img.shape[:2]\n",
    "M_rot = cv2.getRotationMatrix2D((cols / 2, rows / 2), 45, 1)\n",
    "img_rot = cv2.warpAffine(img, M_rot, (cols, rows))\n",
    "cv2.imshow('Image Rotation', img_rot)\n",
    "# 縮小 0.5 倍\n",
    "img_res = cv2.resize(img_rot, None, fx=0.5, fy=0.5, interpolation=cv2.INTER_AREA)\n",
    "cv2.imshow('Image Resizing', img_res)\n",
    "# 平移 (100, -50)\n",
    "M_trans = np.float32([[1, 0, 100], [0, 1, -50]])\n",
    "img_shift = cv2.warpAffine(img_res, M_trans, (img_res.shape[1], img_res.shape[0]))\n",
    "cv2.imshow('Image Shift', img_shift)\n",
    "cv2.waitKey(0)\n",
    "cv2.destroyAllWindows()"
   ]
  },
  {
   "cell_type": "markdown",
   "metadata": {},
   "source": [
    "## Affine Transformation - Case 2: any three point"
   ]
  },
  {
   "cell_type": "code",
   "execution_count": 8,
   "metadata": {},
   "outputs": [],
   "source": [
    "# 給定兩兩一對，共三對的點\n",
    "# 這邊我們先用手動設定三對點，一般情況下會有點的資料或是透過介面手動標記三個點\n",
    "rows, cols = img.shape[:2]\n",
    "pt1 = np.float32([[50,50], [300,100], [200,300]])\n",
    "pt2 = np.float32([[80,80], [330,150], [300,300]])\n",
    "\n",
    "# 取得 affine 矩陣並做 affine 操作\n",
    "M_affine = cv2.getAffineTransform(pt1, pt2)\n",
    "img_affine = cv2.warpAffine(img, M_affine, (cols, rows))\n",
    "\n",
    "# 在圖片上標記點\n",
    "img_copy = img.copy()\n",
    "for idx, pts in enumerate(pt1):\n",
    "    pts = tuple(map(int, pts))\n",
    "    cv2.circle(img_copy, pts, 3, (0, 255, 0), -1)\n",
    "    cv2.putText(img_copy, str(idx), (pts[0] + 5, pts[1] + 5), cv2.FONT_HERSHEY_COMPLEX, 1, (0, 255, 0), 1)\n",
    "\n",
    "for idx, pts in enumerate(pt2):\n",
    "    pts = tuple(map(int, pts))\n",
    "    cv2.circle(img_affine, pts, 3, (0, 255, 0), -1)\n",
    "    cv2.putText(img_affine, str(idx), (pts[0] + 5, pts[1] + 5), cv2.FONT_HERSHEY_COMPLEX, 1, (0, 255, 0), 1)\n",
    "\n",
    "# 組合 + 顯示圖片\n",
    "img_show_affine = np.hstack((img_copy, img_affine))\n",
    "while True:\n",
    "    cv2.imshow('affine transformation', img_show_affine)\n",
    "    k = cv2.waitKey(0)\n",
    "    if k == 27:\n",
    "        cv2.destroyAllWindows()\n",
    "        break"
   ]
  },
  {
   "cell_type": "code",
   "execution_count": null,
   "metadata": {},
   "outputs": [],
   "source": []
  }
 ],
 "metadata": {
  "kernelspec": {
   "display_name": "Python 3",
   "language": "python",
   "name": "python3"
  },
  "language_info": {
   "codemirror_mode": {
    "name": "ipython",
    "version": 3
   },
   "file_extension": ".py",
   "mimetype": "text/x-python",
   "name": "python",
   "nbconvert_exporter": "python",
   "pygments_lexer": "ipython3",
   "version": "3.6.9"
  }
 },
 "nbformat": 4,
 "nbformat_minor": 2
}
